{
 "cells": [
  {
   "cell_type": "code",
   "execution_count": 10,
   "id": "c5721728-886a-408b-b4eb-514b43b47464",
   "metadata": {},
   "outputs": [
    {
     "name": "stdout",
     "output_type": "stream",
     "text": [
      "Text: All my homies hate Neddy, That guy sucks\n",
      "Scores: {'neg': 0.508, 'neu': 0.492, 'pos': 0.0, 'compound': -0.7351}\n",
      "Sentiment: Negative\n",
      "\n",
      "Text: All my homies love Kyle, That guy is super cool\n",
      "Scores: {'neg': 0.0, 'neu': 0.402, 'pos': 0.598, 'compound': 0.886}\n",
      "Sentiment: Positive\n",
      "\n",
      "Text: Tootin ate a very large sandwich\n",
      "Scores: {'neg': 0.0, 'neu': 1.0, 'pos': 0.0, 'compound': 0.0}\n",
      "Sentiment: Neutral\n",
      "\n",
      "Text: Tootin hated the large sandwich\n",
      "Scores: {'neg': 0.512, 'neu': 0.488, 'pos': 0.0, 'compound': -0.6369}\n",
      "Sentiment: Negative\n",
      "\n",
      "Text: Tootin enjoyed the large sandwich\n",
      "Scores: {'neg': 0.0, 'neu': 0.548, 'pos': 0.452, 'compound': 0.5106}\n",
      "Sentiment: Positive\n",
      "\n",
      "Text: this sentence is neutral\n",
      "Scores: {'neg': 0.0, 'neu': 0.698, 'pos': 0.302, 'compound': 0.0772}\n",
      "Sentiment: Positive\n",
      "\n"
     ]
    },
    {
     "name": "stderr",
     "output_type": "stream",
     "text": [
      "[nltk_data] Downloading package vader_lexicon to\n",
      "[nltk_data]     C:\\Users\\tyron\\AppData\\Roaming\\nltk_data...\n",
      "[nltk_data]   Package vader_lexicon is already up-to-date!\n"
     ]
    }
   ],
   "source": [
    "import nltk\n",
    "from nltk.sentiment.vader import SentimentIntensityAnalyzer\n",
    "\n",
    "# Download VADER\n",
    "nltk.download('vader_lexicon')\n",
    "\n",
    "# Initialise sentiment analyser\n",
    "sid = SentimentIntensityAnalyzer()\n",
    "\n",
    "# Inputs texts\n",
    "texts = [\n",
    "\"All my homies hate Neddy, That guy sucks\",\n",
    "\"All my homies love Kyle, That guy is super cool\",\n",
    "\"Tootin ate a very large sandwich\",\n",
    "\"Tootin hated the large sandwich\",\n",
    "\"Tootin enjoyed the large sandwich\",\n",
    "\"this sentence is neutral\",\n",
    "]\n",
    "\n",
    "# Function to analyze sentiments\n",
    "def analyze_sentiment(text):\n",
    "    scores = sid.polarity_scores(text)\n",
    "    print(f\"Text: {text}\")\n",
    "    print(f\"Scores: {scores}\")\n",
    "    if scores['compound'] >= 0.05:\n",
    "        print(\"Sentiment: Positive\")\n",
    "    elif scores['compound'] <= -0.05:\n",
    "        print(\"Sentiment: Negative\")\n",
    "    else:\n",
    "        print(\"Sentiment: Neutral\")\n",
    "    print(\"\")\n",
    "\n",
    "# Analyze the sentiments of the example texts\n",
    "for text in texts:\n",
    "    analyze_sentiment(text)\n"
   ]
  },
  {
   "cell_type": "code",
   "execution_count": null,
   "id": "a1b7ca05-ac98-4345-bf79-6576c2df5a7a",
   "metadata": {},
   "outputs": [],
   "source": []
  }
 ],
 "metadata": {
  "kernelspec": {
   "display_name": "Python 3 (ipykernel)",
   "language": "python",
   "name": "python3"
  },
  "language_info": {
   "codemirror_mode": {
    "name": "ipython",
    "version": 3
   },
   "file_extension": ".py",
   "mimetype": "text/x-python",
   "name": "python",
   "nbconvert_exporter": "python",
   "pygments_lexer": "ipython3",
   "version": "3.12.4"
  }
 },
 "nbformat": 4,
 "nbformat_minor": 5
}
